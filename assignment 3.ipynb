{
 "cells": [
  {
   "cell_type": "code",
   "execution_count": 1,
   "id": "da6d55ef-8b11-46ae-beab-3686f4bff977",
   "metadata": {},
   "outputs": [
    {
     "name": "stdout",
     "output_type": "stream",
     "text": [
      "haydrabad\n"
     ]
    }
   ],
   "source": [
    "# Q1\n",
    "city = 'haydrabad'\n",
    "print (city)"
   ]
  },
  {
   "cell_type": "code",
   "execution_count": 3,
   "id": "89b05f0f-ff6b-4627-8f20-364f0e3ed15e",
   "metadata": {},
   "outputs": [
    {
     "name": "stdout",
     "output_type": "stream",
     "text": [
      "<class 'str'>\n"
     ]
    }
   ],
   "source": [
    "# Q2\n",
    "print (type(city))"
   ]
  },
  {
   "cell_type": "code",
   "execution_count": 5,
   "id": "02cb5260-f465-45af-905a-4d982872c7c6",
   "metadata": {},
   "outputs": [
    {
     "name": "stdout",
     "output_type": "stream",
     "text": [
      "42\n"
     ]
    }
   ],
   "source": [
    "# Q3\n",
    "number = 42\n",
    "new_number = str(number)\n",
    "print (new_number)"
   ]
  },
  {
   "cell_type": "code",
   "execution_count": 7,
   "id": "d278ad20-05a8-47e4-9e8a-6c47014ed381",
   "metadata": {},
   "outputs": [
    {
     "name": "stdout",
     "output_type": "stream",
     "text": [
      "16\n"
     ]
    }
   ],
   "source": [
    "# Q4\n",
    "name = 'madihatulfirdose'\n",
    "print (len(name))"
   ]
  },
  {
   "cell_type": "code",
   "execution_count": 9,
   "id": "3a30fd20-1abc-4946-9c8d-ba12826e3fe1",
   "metadata": {},
   "outputs": [
    {
     "name": "stdout",
     "output_type": "stream",
     "text": [
      "code word exist\n"
     ]
    }
   ],
   "source": [
    "# Q5\n",
    "txt = 'code square'\n",
    "if 'code' in txt:\n",
    "    print ('code word exist')"
   ]
  }
 ],
 "metadata": {
  "kernelspec": {
   "display_name": "Python 3 (ipykernel)",
   "language": "python",
   "name": "python3"
  },
  "language_info": {
   "codemirror_mode": {
    "name": "ipython",
    "version": 3
   },
   "file_extension": ".py",
   "mimetype": "text/x-python",
   "name": "python",
   "nbconvert_exporter": "python",
   "pygments_lexer": "ipython3",
   "version": "3.12.4"
  }
 },
 "nbformat": 4,
 "nbformat_minor": 5
}
